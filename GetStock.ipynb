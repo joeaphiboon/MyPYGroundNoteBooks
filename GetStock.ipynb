{
 "cells": [
  {
   "cell_type": "markdown",
   "metadata": {
    "button": false,
    "deletable": true,
    "new_sheet": false,
    "run_control": {
     "read_only": false
    }
   },
   "source": [
    "กำหนดต่า Library Package ที่ต่้องใช้งาน"
   ]
  },
  {
   "cell_type": "code",
   "execution_count": 1,
   "metadata": {
    "button": false,
    "collapsed": false,
    "deletable": true,
    "new_sheet": false,
    "run_control": {
     "read_only": false
    }
   },
   "outputs": [
    {
     "name": "stderr",
     "output_type": "stream",
     "text": [
      "/Applications/Pineapple.app/Contents/Frameworks/Python.framework/Versions/3.5/lib/python3.5/site-packages/IPython/html.py:14: ShimWarning: The `IPython.html` package has been deprecated. You should import from `notebook` instead. `IPython.html.widgets` has moved to `ipywidgets`.\n",
      "  \"`IPython.html.widgets` has moved to `ipywidgets`.\", ShimWarning)\n"
     ]
    }
   ],
   "source": [
    "from pandas_datareader import data as pdr\n",
    "import fix_yahoo_finance as yf\n",
    "import matplotlib.pyplot as plt\n",
    "import numpy as np\n",
    "import seaborn as sns\n",
    "\n",
    "sns.set(color_codes=True)\n",
    "\n",
    "%matplotlib notebook"
   ]
  },
  {
   "cell_type": "markdown",
   "metadata": {
    "button": false,
    "deletable": true,
    "new_sheet": false,
    "run_control": {
     "read_only": false
    }
   },
   "source": [
    "กำหนด Function ในการเรียกราคาหุ้นจาก Yahoo Finance"
   ]
  },
  {
   "cell_type": "code",
   "execution_count": 250,
   "metadata": {
    "button": false,
    "collapsed": true,
    "deletable": true,
    "new_sheet": false,
    "run_control": {
     "read_only": false
    }
   },
   "outputs": [],
   "source": [
    "def GetStock(stockname, start, end) :\n",
    "    return (pdr.get_data_yahoo(stockname, start, end))"
   ]
  },
  {
   "cell_type": "code",
   "execution_count": null,
   "metadata": {
    "button": false,
    "collapsed": true,
    "deletable": true,
    "new_sheet": false,
    "run_control": {
     "read_only": false
    }
   },
   "outputs": [],
   "source": []
  },
  {
   "cell_type": "markdown",
   "metadata": {
    "button": false,
    "deletable": true,
    "new_sheet": false,
    "run_control": {
     "read_only": false
    }
   },
   "source": [
    "เรียกใช้ Function ในการดึงข้อมูลกราฟตามช่วงเวลาที่กำหนดมาแสดง"
   ]
  },
  {
   "cell_type": "code",
   "execution_count": 264,
   "metadata": {
    "button": false,
    "collapsed": false,
    "deletable": true,
    "new_sheet": false,
    "run_control": {
     "read_only": false
    }
   },
   "outputs": [
    {
     "name": "stdout",
     "output_type": "stream",
     "text": [
      "[*********************100%***********************]  1 of 1 downloaded"
     ]
    },
    {
     "data": {
      "application/javascript": [
       "/* Put everything inside the global mpl namespace */\n",
       "window.mpl = {};\n",
       "\n",
       "\n",
       "mpl.get_websocket_type = function() {\n",
       "    if (typeof(WebSocket) !== 'undefined') {\n",
       "        return WebSocket;\n",
       "    } else if (typeof(MozWebSocket) !== 'undefined') {\n",
       "        return MozWebSocket;\n",
       "    } else {\n",
       "        alert('Your browser does not have WebSocket support.' +\n",
       "              'Please try Chrome, Safari or Firefox ≥ 6. ' +\n",
       "              'Firefox 4 and 5 are also supported but you ' +\n",
       "              'have to enable WebSockets in about:config.');\n",
       "    };\n",
       "}\n",
       "\n",
       "mpl.figure = function(figure_id, websocket, ondownload, parent_element) {\n",
       "    this.id = figure_id;\n",
       "\n",
       "    this.ws = websocket;\n",
       "\n",
       "    this.supports_binary = (this.ws.binaryType != undefined);\n",
       "\n",
       "    if (!this.supports_binary) {\n",
       "        var warnings = document.getElementById(\"mpl-warnings\");\n",
       "        if (warnings) {\n",
       "            warnings.style.display = 'block';\n",
       "            warnings.textContent = (\n",
       "                \"This browser does not support binary websocket messages. \" +\n",
       "                    \"Performance may be slow.\");\n",
       "        }\n",
       "    }\n",
       "\n",
       "    this.imageObj = new Image();\n",
       "\n",
       "    this.context = undefined;\n",
       "    this.message = undefined;\n",
       "    this.canvas = undefined;\n",
       "    this.rubberband_canvas = undefined;\n",
       "    this.rubberband_context = undefined;\n",
       "    this.format_dropdown = undefined;\n",
       "\n",
       "    this.image_mode = 'full';\n",
       "\n",
       "    this.root = $('<div/>');\n",
       "    this._root_extra_style(this.root)\n",
       "    this.root.attr('style', 'display: inline-block');\n",
       "\n",
       "    $(parent_element).append(this.root);\n",
       "\n",
       "    this._init_header(this);\n",
       "    this._init_canvas(this);\n",
       "    this._init_toolbar(this);\n",
       "\n",
       "    var fig = this;\n",
       "\n",
       "    this.waiting = false;\n",
       "\n",
       "    this.ws.onopen =  function () {\n",
       "            fig.send_message(\"supports_binary\", {value: fig.supports_binary});\n",
       "            fig.send_message(\"send_image_mode\", {});\n",
       "            if (mpl.ratio != 1) {\n",
       "                fig.send_message(\"set_dpi_ratio\", {'dpi_ratio': mpl.ratio});\n",
       "            }\n",
       "            fig.send_message(\"refresh\", {});\n",
       "        }\n",
       "\n",
       "    this.imageObj.onload = function() {\n",
       "            if (fig.image_mode == 'full') {\n",
       "                // Full images could contain transparency (where diff images\n",
       "                // almost always do), so we need to clear the canvas so that\n",
       "                // there is no ghosting.\n",
       "                fig.context.clearRect(0, 0, fig.canvas.width, fig.canvas.height);\n",
       "            }\n",
       "            fig.context.drawImage(fig.imageObj, 0, 0);\n",
       "        };\n",
       "\n",
       "    this.imageObj.onunload = function() {\n",
       "        this.ws.close();\n",
       "    }\n",
       "\n",
       "    this.ws.onmessage = this._make_on_message_function(this);\n",
       "\n",
       "    this.ondownload = ondownload;\n",
       "}\n",
       "\n",
       "mpl.figure.prototype._init_header = function() {\n",
       "    var titlebar = $(\n",
       "        '<div class=\"ui-dialog-titlebar ui-widget-header ui-corner-all ' +\n",
       "        'ui-helper-clearfix\"/>');\n",
       "    var titletext = $(\n",
       "        '<div class=\"ui-dialog-title\" style=\"width: 100%; ' +\n",
       "        'text-align: center; padding: 3px;\"/>');\n",
       "    titlebar.append(titletext)\n",
       "    this.root.append(titlebar);\n",
       "    this.header = titletext[0];\n",
       "}\n",
       "\n",
       "\n",
       "\n",
       "mpl.figure.prototype._canvas_extra_style = function(canvas_div) {\n",
       "\n",
       "}\n",
       "\n",
       "\n",
       "mpl.figure.prototype._root_extra_style = function(canvas_div) {\n",
       "\n",
       "}\n",
       "\n",
       "mpl.figure.prototype._init_canvas = function() {\n",
       "    var fig = this;\n",
       "\n",
       "    var canvas_div = $('<div/>');\n",
       "\n",
       "    canvas_div.attr('style', 'position: relative; clear: both; outline: 0');\n",
       "\n",
       "    function canvas_keyboard_event(event) {\n",
       "        return fig.key_event(event, event['data']);\n",
       "    }\n",
       "\n",
       "    canvas_div.keydown('key_press', canvas_keyboard_event);\n",
       "    canvas_div.keyup('key_release', canvas_keyboard_event);\n",
       "    this.canvas_div = canvas_div\n",
       "    this._canvas_extra_style(canvas_div)\n",
       "    this.root.append(canvas_div);\n",
       "\n",
       "    var canvas = $('<canvas/>');\n",
       "    canvas.addClass('mpl-canvas');\n",
       "    canvas.attr('style', \"left: 0; top: 0; z-index: 0; outline: 0\")\n",
       "\n",
       "    this.canvas = canvas[0];\n",
       "    this.context = canvas[0].getContext(\"2d\");\n",
       "\n",
       "    var backingStore = this.context.backingStorePixelRatio ||\n",
       "\tthis.context.webkitBackingStorePixelRatio ||\n",
       "\tthis.context.mozBackingStorePixelRatio ||\n",
       "\tthis.context.msBackingStorePixelRatio ||\n",
       "\tthis.context.oBackingStorePixelRatio ||\n",
       "\tthis.context.backingStorePixelRatio || 1;\n",
       "\n",
       "    mpl.ratio = (window.devicePixelRatio || 1) / backingStore;\n",
       "\n",
       "    var rubberband = $('<canvas/>');\n",
       "    rubberband.attr('style', \"position: absolute; left: 0; top: 0; z-index: 1;\")\n",
       "\n",
       "    var pass_mouse_events = true;\n",
       "\n",
       "    canvas_div.resizable({\n",
       "        start: function(event, ui) {\n",
       "            pass_mouse_events = false;\n",
       "        },\n",
       "        resize: function(event, ui) {\n",
       "            fig.request_resize(ui.size.width, ui.size.height);\n",
       "        },\n",
       "        stop: function(event, ui) {\n",
       "            pass_mouse_events = true;\n",
       "            fig.request_resize(ui.size.width, ui.size.height);\n",
       "        },\n",
       "    });\n",
       "\n",
       "    function mouse_event_fn(event) {\n",
       "        if (pass_mouse_events)\n",
       "            return fig.mouse_event(event, event['data']);\n",
       "    }\n",
       "\n",
       "    rubberband.mousedown('button_press', mouse_event_fn);\n",
       "    rubberband.mouseup('button_release', mouse_event_fn);\n",
       "    // Throttle sequential mouse events to 1 every 20ms.\n",
       "    rubberband.mousemove('motion_notify', mouse_event_fn);\n",
       "\n",
       "    rubberband.mouseenter('figure_enter', mouse_event_fn);\n",
       "    rubberband.mouseleave('figure_leave', mouse_event_fn);\n",
       "\n",
       "    canvas_div.on(\"wheel\", function (event) {\n",
       "        event = event.originalEvent;\n",
       "        event['data'] = 'scroll'\n",
       "        if (event.deltaY < 0) {\n",
       "            event.step = 1;\n",
       "        } else {\n",
       "            event.step = -1;\n",
       "        }\n",
       "        mouse_event_fn(event);\n",
       "    });\n",
       "\n",
       "    canvas_div.append(canvas);\n",
       "    canvas_div.append(rubberband);\n",
       "\n",
       "    this.rubberband = rubberband;\n",
       "    this.rubberband_canvas = rubberband[0];\n",
       "    this.rubberband_context = rubberband[0].getContext(\"2d\");\n",
       "    this.rubberband_context.strokeStyle = \"#000000\";\n",
       "\n",
       "    this._resize_canvas = function(width, height) {\n",
       "        // Keep the size of the canvas, canvas container, and rubber band\n",
       "        // canvas in synch.\n",
       "        canvas_div.css('width', width)\n",
       "        canvas_div.css('height', height)\n",
       "\n",
       "        canvas.attr('width', width * mpl.ratio);\n",
       "        canvas.attr('height', height * mpl.ratio);\n",
       "        canvas.attr('style', 'width: ' + width + 'px; height: ' + height + 'px;');\n",
       "\n",
       "        rubberband.attr('width', width);\n",
       "        rubberband.attr('height', height);\n",
       "    }\n",
       "\n",
       "    // Set the figure to an initial 600x600px, this will subsequently be updated\n",
       "    // upon first draw.\n",
       "    this._resize_canvas(600, 600);\n",
       "\n",
       "    // Disable right mouse context menu.\n",
       "    $(this.rubberband_canvas).bind(\"contextmenu\",function(e){\n",
       "        return false;\n",
       "    });\n",
       "\n",
       "    function set_focus () {\n",
       "        canvas.focus();\n",
       "        canvas_div.focus();\n",
       "    }\n",
       "\n",
       "    window.setTimeout(set_focus, 100);\n",
       "}\n",
       "\n",
       "mpl.figure.prototype._init_toolbar = function() {\n",
       "    var fig = this;\n",
       "\n",
       "    var nav_element = $('<div/>')\n",
       "    nav_element.attr('style', 'width: 100%');\n",
       "    this.root.append(nav_element);\n",
       "\n",
       "    // Define a callback function for later on.\n",
       "    function toolbar_event(event) {\n",
       "        return fig.toolbar_button_onclick(event['data']);\n",
       "    }\n",
       "    function toolbar_mouse_event(event) {\n",
       "        return fig.toolbar_button_onmouseover(event['data']);\n",
       "    }\n",
       "\n",
       "    for(var toolbar_ind in mpl.toolbar_items) {\n",
       "        var name = mpl.toolbar_items[toolbar_ind][0];\n",
       "        var tooltip = mpl.toolbar_items[toolbar_ind][1];\n",
       "        var image = mpl.toolbar_items[toolbar_ind][2];\n",
       "        var method_name = mpl.toolbar_items[toolbar_ind][3];\n",
       "\n",
       "        if (!name) {\n",
       "            // put a spacer in here.\n",
       "            continue;\n",
       "        }\n",
       "        var button = $('<button/>');\n",
       "        button.addClass('ui-button ui-widget ui-state-default ui-corner-all ' +\n",
       "                        'ui-button-icon-only');\n",
       "        button.attr('role', 'button');\n",
       "        button.attr('aria-disabled', 'false');\n",
       "        button.click(method_name, toolbar_event);\n",
       "        button.mouseover(tooltip, toolbar_mouse_event);\n",
       "\n",
       "        var icon_img = $('<span/>');\n",
       "        icon_img.addClass('ui-button-icon-primary ui-icon');\n",
       "        icon_img.addClass(image);\n",
       "        icon_img.addClass('ui-corner-all');\n",
       "\n",
       "        var tooltip_span = $('<span/>');\n",
       "        tooltip_span.addClass('ui-button-text');\n",
       "        tooltip_span.html(tooltip);\n",
       "\n",
       "        button.append(icon_img);\n",
       "        button.append(tooltip_span);\n",
       "\n",
       "        nav_element.append(button);\n",
       "    }\n",
       "\n",
       "    var fmt_picker_span = $('<span/>');\n",
       "\n",
       "    var fmt_picker = $('<select/>');\n",
       "    fmt_picker.addClass('mpl-toolbar-option ui-widget ui-widget-content');\n",
       "    fmt_picker_span.append(fmt_picker);\n",
       "    nav_element.append(fmt_picker_span);\n",
       "    this.format_dropdown = fmt_picker[0];\n",
       "\n",
       "    for (var ind in mpl.extensions) {\n",
       "        var fmt = mpl.extensions[ind];\n",
       "        var option = $(\n",
       "            '<option/>', {selected: fmt === mpl.default_extension}).html(fmt);\n",
       "        fmt_picker.append(option)\n",
       "    }\n",
       "\n",
       "    // Add hover states to the ui-buttons\n",
       "    $( \".ui-button\" ).hover(\n",
       "        function() { $(this).addClass(\"ui-state-hover\");},\n",
       "        function() { $(this).removeClass(\"ui-state-hover\");}\n",
       "    );\n",
       "\n",
       "    var status_bar = $('<span class=\"mpl-message\"/>');\n",
       "    nav_element.append(status_bar);\n",
       "    this.message = status_bar[0];\n",
       "}\n",
       "\n",
       "mpl.figure.prototype.request_resize = function(x_pixels, y_pixels) {\n",
       "    // Request matplotlib to resize the figure. Matplotlib will then trigger a resize in the client,\n",
       "    // which will in turn request a refresh of the image.\n",
       "    this.send_message('resize', {'width': x_pixels, 'height': y_pixels});\n",
       "}\n",
       "\n",
       "mpl.figure.prototype.send_message = function(type, properties) {\n",
       "    properties['type'] = type;\n",
       "    properties['figure_id'] = this.id;\n",
       "    this.ws.send(JSON.stringify(properties));\n",
       "}\n",
       "\n",
       "mpl.figure.prototype.send_draw_message = function() {\n",
       "    if (!this.waiting) {\n",
       "        this.waiting = true;\n",
       "        this.ws.send(JSON.stringify({type: \"draw\", figure_id: this.id}));\n",
       "    }\n",
       "}\n",
       "\n",
       "\n",
       "mpl.figure.prototype.handle_save = function(fig, msg) {\n",
       "    var format_dropdown = fig.format_dropdown;\n",
       "    var format = format_dropdown.options[format_dropdown.selectedIndex].value;\n",
       "    fig.ondownload(fig, format);\n",
       "}\n",
       "\n",
       "\n",
       "mpl.figure.prototype.handle_resize = function(fig, msg) {\n",
       "    var size = msg['size'];\n",
       "    if (size[0] != fig.canvas.width || size[1] != fig.canvas.height) {\n",
       "        fig._resize_canvas(size[0], size[1]);\n",
       "        fig.send_message(\"refresh\", {});\n",
       "    };\n",
       "}\n",
       "\n",
       "mpl.figure.prototype.handle_rubberband = function(fig, msg) {\n",
       "    var x0 = msg['x0'] / mpl.ratio;\n",
       "    var y0 = (fig.canvas.height - msg['y0']) / mpl.ratio;\n",
       "    var x1 = msg['x1'] / mpl.ratio;\n",
       "    var y1 = (fig.canvas.height - msg['y1']) / mpl.ratio;\n",
       "    x0 = Math.floor(x0) + 0.5;\n",
       "    y0 = Math.floor(y0) + 0.5;\n",
       "    x1 = Math.floor(x1) + 0.5;\n",
       "    y1 = Math.floor(y1) + 0.5;\n",
       "    var min_x = Math.min(x0, x1);\n",
       "    var min_y = Math.min(y0, y1);\n",
       "    var width = Math.abs(x1 - x0);\n",
       "    var height = Math.abs(y1 - y0);\n",
       "\n",
       "    fig.rubberband_context.clearRect(\n",
       "        0, 0, fig.canvas.width, fig.canvas.height);\n",
       "\n",
       "    fig.rubberband_context.strokeRect(min_x, min_y, width, height);\n",
       "}\n",
       "\n",
       "mpl.figure.prototype.handle_figure_label = function(fig, msg) {\n",
       "    // Updates the figure title.\n",
       "    fig.header.textContent = msg['label'];\n",
       "}\n",
       "\n",
       "mpl.figure.prototype.handle_cursor = function(fig, msg) {\n",
       "    var cursor = msg['cursor'];\n",
       "    switch(cursor)\n",
       "    {\n",
       "    case 0:\n",
       "        cursor = 'pointer';\n",
       "        break;\n",
       "    case 1:\n",
       "        cursor = 'default';\n",
       "        break;\n",
       "    case 2:\n",
       "        cursor = 'crosshair';\n",
       "        break;\n",
       "    case 3:\n",
       "        cursor = 'move';\n",
       "        break;\n",
       "    }\n",
       "    fig.rubberband_canvas.style.cursor = cursor;\n",
       "}\n",
       "\n",
       "mpl.figure.prototype.handle_message = function(fig, msg) {\n",
       "    fig.message.textContent = msg['message'];\n",
       "}\n",
       "\n",
       "mpl.figure.prototype.handle_draw = function(fig, msg) {\n",
       "    // Request the server to send over a new figure.\n",
       "    fig.send_draw_message();\n",
       "}\n",
       "\n",
       "mpl.figure.prototype.handle_image_mode = function(fig, msg) {\n",
       "    fig.image_mode = msg['mode'];\n",
       "}\n",
       "\n",
       "mpl.figure.prototype.updated_canvas_event = function() {\n",
       "    // Called whenever the canvas gets updated.\n",
       "    this.send_message(\"ack\", {});\n",
       "}\n",
       "\n",
       "// A function to construct a web socket function for onmessage handling.\n",
       "// Called in the figure constructor.\n",
       "mpl.figure.prototype._make_on_message_function = function(fig) {\n",
       "    return function socket_on_message(evt) {\n",
       "        if (evt.data instanceof Blob) {\n",
       "            /* FIXME: We get \"Resource interpreted as Image but\n",
       "             * transferred with MIME type text/plain:\" errors on\n",
       "             * Chrome.  But how to set the MIME type?  It doesn't seem\n",
       "             * to be part of the websocket stream */\n",
       "            evt.data.type = \"image/png\";\n",
       "\n",
       "            /* Free the memory for the previous frames */\n",
       "            if (fig.imageObj.src) {\n",
       "                (window.URL || window.webkitURL).revokeObjectURL(\n",
       "                    fig.imageObj.src);\n",
       "            }\n",
       "\n",
       "            fig.imageObj.src = (window.URL || window.webkitURL).createObjectURL(\n",
       "                evt.data);\n",
       "            fig.updated_canvas_event();\n",
       "            fig.waiting = false;\n",
       "            return;\n",
       "        }\n",
       "        else if (typeof evt.data === 'string' && evt.data.slice(0, 21) == \"data:image/png;base64\") {\n",
       "            fig.imageObj.src = evt.data;\n",
       "            fig.updated_canvas_event();\n",
       "            fig.waiting = false;\n",
       "            return;\n",
       "        }\n",
       "\n",
       "        var msg = JSON.parse(evt.data);\n",
       "        var msg_type = msg['type'];\n",
       "\n",
       "        // Call the  \"handle_{type}\" callback, which takes\n",
       "        // the figure and JSON message as its only arguments.\n",
       "        try {\n",
       "            var callback = fig[\"handle_\" + msg_type];\n",
       "        } catch (e) {\n",
       "            console.log(\"No handler for the '\" + msg_type + \"' message type: \", msg);\n",
       "            return;\n",
       "        }\n",
       "\n",
       "        if (callback) {\n",
       "            try {\n",
       "                // console.log(\"Handling '\" + msg_type + \"' message: \", msg);\n",
       "                callback(fig, msg);\n",
       "            } catch (e) {\n",
       "                console.log(\"Exception inside the 'handler_\" + msg_type + \"' callback:\", e, e.stack, msg);\n",
       "            }\n",
       "        }\n",
       "    };\n",
       "}\n",
       "\n",
       "// from http://stackoverflow.com/questions/1114465/getting-mouse-location-in-canvas\n",
       "mpl.findpos = function(e) {\n",
       "    //this section is from http://www.quirksmode.org/js/events_properties.html\n",
       "    var targ;\n",
       "    if (!e)\n",
       "        e = window.event;\n",
       "    if (e.target)\n",
       "        targ = e.target;\n",
       "    else if (e.srcElement)\n",
       "        targ = e.srcElement;\n",
       "    if (targ.nodeType == 3) // defeat Safari bug\n",
       "        targ = targ.parentNode;\n",
       "\n",
       "    // jQuery normalizes the pageX and pageY\n",
       "    // pageX,Y are the mouse positions relative to the document\n",
       "    // offset() returns the position of the element relative to the document\n",
       "    var x = e.pageX - $(targ).offset().left;\n",
       "    var y = e.pageY - $(targ).offset().top;\n",
       "\n",
       "    return {\"x\": x, \"y\": y};\n",
       "};\n",
       "\n",
       "/*\n",
       " * return a copy of an object with only non-object keys\n",
       " * we need this to avoid circular references\n",
       " * http://stackoverflow.com/a/24161582/3208463\n",
       " */\n",
       "function simpleKeys (original) {\n",
       "  return Object.keys(original).reduce(function (obj, key) {\n",
       "    if (typeof original[key] !== 'object')\n",
       "        obj[key] = original[key]\n",
       "    return obj;\n",
       "  }, {});\n",
       "}\n",
       "\n",
       "mpl.figure.prototype.mouse_event = function(event, name) {\n",
       "    var canvas_pos = mpl.findpos(event)\n",
       "\n",
       "    if (name === 'button_press')\n",
       "    {\n",
       "        this.canvas.focus();\n",
       "        this.canvas_div.focus();\n",
       "    }\n",
       "\n",
       "    var x = canvas_pos.x * mpl.ratio;\n",
       "    var y = canvas_pos.y * mpl.ratio;\n",
       "\n",
       "    this.send_message(name, {x: x, y: y, button: event.button,\n",
       "                             step: event.step,\n",
       "                             guiEvent: simpleKeys(event)});\n",
       "\n",
       "    /* This prevents the web browser from automatically changing to\n",
       "     * the text insertion cursor when the button is pressed.  We want\n",
       "     * to control all of the cursor setting manually through the\n",
       "     * 'cursor' event from matplotlib */\n",
       "    event.preventDefault();\n",
       "    return false;\n",
       "}\n",
       "\n",
       "mpl.figure.prototype._key_event_extra = function(event, name) {\n",
       "    // Handle any extra behaviour associated with a key event\n",
       "}\n",
       "\n",
       "mpl.figure.prototype.key_event = function(event, name) {\n",
       "\n",
       "    // Prevent repeat events\n",
       "    if (name == 'key_press')\n",
       "    {\n",
       "        if (event.which === this._key)\n",
       "            return;\n",
       "        else\n",
       "            this._key = event.which;\n",
       "    }\n",
       "    if (name == 'key_release')\n",
       "        this._key = null;\n",
       "\n",
       "    var value = '';\n",
       "    if (event.ctrlKey && event.which != 17)\n",
       "        value += \"ctrl+\";\n",
       "    if (event.altKey && event.which != 18)\n",
       "        value += \"alt+\";\n",
       "    if (event.shiftKey && event.which != 16)\n",
       "        value += \"shift+\";\n",
       "\n",
       "    value += 'k';\n",
       "    value += event.which.toString();\n",
       "\n",
       "    this._key_event_extra(event, name);\n",
       "\n",
       "    this.send_message(name, {key: value,\n",
       "                             guiEvent: simpleKeys(event)});\n",
       "    return false;\n",
       "}\n",
       "\n",
       "mpl.figure.prototype.toolbar_button_onclick = function(name) {\n",
       "    if (name == 'download') {\n",
       "        this.handle_save(this, null);\n",
       "    } else {\n",
       "        this.send_message(\"toolbar_button\", {name: name});\n",
       "    }\n",
       "};\n",
       "\n",
       "mpl.figure.prototype.toolbar_button_onmouseover = function(tooltip) {\n",
       "    this.message.textContent = tooltip;\n",
       "};\n",
       "mpl.toolbar_items = [[\"Home\", \"Reset original view\", \"fa fa-home icon-home\", \"home\"], [\"Back\", \"Back to  previous view\", \"fa fa-arrow-left icon-arrow-left\", \"back\"], [\"Forward\", \"Forward to next view\", \"fa fa-arrow-right icon-arrow-right\", \"forward\"], [\"\", \"\", \"\", \"\"], [\"Pan\", \"Pan axes with left mouse, zoom with right\", \"fa fa-arrows icon-move\", \"pan\"], [\"Zoom\", \"Zoom to rectangle\", \"fa fa-square-o icon-check-empty\", \"zoom\"], [\"\", \"\", \"\", \"\"], [\"Download\", \"Download plot\", \"fa fa-floppy-o icon-save\", \"download\"]];\n",
       "\n",
       "mpl.extensions = [\"eps\", \"pdf\", \"png\", \"ps\", \"raw\", \"svg\"];\n",
       "\n",
       "mpl.default_extension = \"png\";var comm_websocket_adapter = function(comm) {\n",
       "    // Create a \"websocket\"-like object which calls the given IPython comm\n",
       "    // object with the appropriate methods. Currently this is a non binary\n",
       "    // socket, so there is still some room for performance tuning.\n",
       "    var ws = {};\n",
       "\n",
       "    ws.close = function() {\n",
       "        comm.close()\n",
       "    };\n",
       "    ws.send = function(m) {\n",
       "        //console.log('sending', m);\n",
       "        comm.send(m);\n",
       "    };\n",
       "    // Register the callback with on_msg.\n",
       "    comm.on_msg(function(msg) {\n",
       "        //console.log('receiving', msg['content']['data'], msg);\n",
       "        // Pass the mpl event to the overriden (by mpl) onmessage function.\n",
       "        ws.onmessage(msg['content']['data'])\n",
       "    });\n",
       "    return ws;\n",
       "}\n",
       "\n",
       "mpl.mpl_figure_comm = function(comm, msg) {\n",
       "    // This is the function which gets called when the mpl process\n",
       "    // starts-up an IPython Comm through the \"matplotlib\" channel.\n",
       "\n",
       "    var id = msg.content.data.id;\n",
       "    // Get hold of the div created by the display call when the Comm\n",
       "    // socket was opened in Python.\n",
       "    var element = $(\"#\" + id);\n",
       "    var ws_proxy = comm_websocket_adapter(comm)\n",
       "\n",
       "    function ondownload(figure, format) {\n",
       "        window.open(figure.imageObj.src);\n",
       "    }\n",
       "\n",
       "    var fig = new mpl.figure(id, ws_proxy,\n",
       "                           ondownload,\n",
       "                           element.get(0));\n",
       "\n",
       "    // Call onopen now - mpl needs it, as it is assuming we've passed it a real\n",
       "    // web socket which is closed, not our websocket->open comm proxy.\n",
       "    ws_proxy.onopen();\n",
       "\n",
       "    fig.parent_element = element.get(0);\n",
       "    fig.cell_info = mpl.find_output_cell(\"<div id='\" + id + \"'></div>\");\n",
       "    if (!fig.cell_info) {\n",
       "        console.error(\"Failed to find cell for figure\", id, fig);\n",
       "        return;\n",
       "    }\n",
       "\n",
       "    var output_index = fig.cell_info[2]\n",
       "    var cell = fig.cell_info[0];\n",
       "\n",
       "};\n",
       "\n",
       "mpl.figure.prototype.handle_close = function(fig, msg) {\n",
       "    var width = fig.canvas.width/mpl.ratio\n",
       "    fig.root.unbind('remove')\n",
       "\n",
       "    // Update the output cell to use the data from the current canvas.\n",
       "    fig.push_to_output();\n",
       "    var dataURL = fig.canvas.toDataURL();\n",
       "    // Re-enable the keyboard manager in IPython - without this line, in FF,\n",
       "    // the notebook keyboard shortcuts fail.\n",
       "    IPython.keyboard_manager.enable()\n",
       "    $(fig.parent_element).html('<img src=\"' + dataURL + '\" width=\"' + width + '\">');\n",
       "    fig.close_ws(fig, msg);\n",
       "}\n",
       "\n",
       "mpl.figure.prototype.close_ws = function(fig, msg){\n",
       "    fig.send_message('closing', msg);\n",
       "    // fig.ws.close()\n",
       "}\n",
       "\n",
       "mpl.figure.prototype.push_to_output = function(remove_interactive) {\n",
       "    // Turn the data on the canvas into data in the output cell.\n",
       "    var width = this.canvas.width/mpl.ratio\n",
       "    var dataURL = this.canvas.toDataURL();\n",
       "    this.cell_info[1]['text/html'] = '<img src=\"' + dataURL + '\" width=\"' + width + '\">';\n",
       "}\n",
       "\n",
       "mpl.figure.prototype.updated_canvas_event = function() {\n",
       "    // Tell IPython that the notebook contents must change.\n",
       "    IPython.notebook.set_dirty(true);\n",
       "    this.send_message(\"ack\", {});\n",
       "    var fig = this;\n",
       "    // Wait a second, then push the new image to the DOM so\n",
       "    // that it is saved nicely (might be nice to debounce this).\n",
       "    setTimeout(function () { fig.push_to_output() }, 1000);\n",
       "}\n",
       "\n",
       "mpl.figure.prototype._init_toolbar = function() {\n",
       "    var fig = this;\n",
       "\n",
       "    var nav_element = $('<div/>')\n",
       "    nav_element.attr('style', 'width: 100%');\n",
       "    this.root.append(nav_element);\n",
       "\n",
       "    // Define a callback function for later on.\n",
       "    function toolbar_event(event) {\n",
       "        return fig.toolbar_button_onclick(event['data']);\n",
       "    }\n",
       "    function toolbar_mouse_event(event) {\n",
       "        return fig.toolbar_button_onmouseover(event['data']);\n",
       "    }\n",
       "\n",
       "    for(var toolbar_ind in mpl.toolbar_items){\n",
       "        var name = mpl.toolbar_items[toolbar_ind][0];\n",
       "        var tooltip = mpl.toolbar_items[toolbar_ind][1];\n",
       "        var image = mpl.toolbar_items[toolbar_ind][2];\n",
       "        var method_name = mpl.toolbar_items[toolbar_ind][3];\n",
       "\n",
       "        if (!name) { continue; };\n",
       "\n",
       "        var button = $('<button class=\"btn btn-default\" href=\"#\" title=\"' + name + '\"><i class=\"fa ' + image + ' fa-lg\"></i></button>');\n",
       "        button.click(method_name, toolbar_event);\n",
       "        button.mouseover(tooltip, toolbar_mouse_event);\n",
       "        nav_element.append(button);\n",
       "    }\n",
       "\n",
       "    // Add the status bar.\n",
       "    var status_bar = $('<span class=\"mpl-message\" style=\"text-align:right; float: right;\"/>');\n",
       "    nav_element.append(status_bar);\n",
       "    this.message = status_bar[0];\n",
       "\n",
       "    // Add the close button to the window.\n",
       "    var buttongrp = $('<div class=\"btn-group inline pull-right\"></div>');\n",
       "    var button = $('<button class=\"btn btn-mini btn-primary\" href=\"#\" title=\"Stop Interaction\"><i class=\"fa fa-power-off icon-remove icon-large\"></i></button>');\n",
       "    button.click(function (evt) { fig.handle_close(fig, {}); } );\n",
       "    button.mouseover('Stop Interaction', toolbar_mouse_event);\n",
       "    buttongrp.append(button);\n",
       "    var titlebar = this.root.find($('.ui-dialog-titlebar'));\n",
       "    titlebar.prepend(buttongrp);\n",
       "}\n",
       "\n",
       "mpl.figure.prototype._root_extra_style = function(el){\n",
       "    var fig = this\n",
       "    el.on(\"remove\", function(){\n",
       "\tfig.close_ws(fig, {});\n",
       "    });\n",
       "}\n",
       "\n",
       "mpl.figure.prototype._canvas_extra_style = function(el){\n",
       "    // this is important to make the div 'focusable\n",
       "    el.attr('tabindex', 0)\n",
       "    // reach out to IPython and tell the keyboard manager to turn it's self\n",
       "    // off when our div gets focus\n",
       "\n",
       "    // location in version 3\n",
       "    if (IPython.notebook.keyboard_manager) {\n",
       "        IPython.notebook.keyboard_manager.register_events(el);\n",
       "    }\n",
       "    else {\n",
       "        // location in version 2\n",
       "        IPython.keyboard_manager.register_events(el);\n",
       "    }\n",
       "\n",
       "}\n",
       "\n",
       "mpl.figure.prototype._key_event_extra = function(event, name) {\n",
       "    var manager = IPython.notebook.keyboard_manager;\n",
       "    if (!manager)\n",
       "        manager = IPython.keyboard_manager;\n",
       "\n",
       "    // Check for shift+enter\n",
       "    if (event.shiftKey && event.which == 13) {\n",
       "        this.canvas_div.blur();\n",
       "        // select the cell after this one\n",
       "        var index = IPython.notebook.find_cell_index(this.cell_info[0]);\n",
       "        IPython.notebook.select(index + 1);\n",
       "    }\n",
       "}\n",
       "\n",
       "mpl.figure.prototype.handle_save = function(fig, msg) {\n",
       "    fig.ondownload(fig, null);\n",
       "}\n",
       "\n",
       "\n",
       "mpl.find_output_cell = function(html_output) {\n",
       "    // Return the cell and output element which can be found *uniquely* in the notebook.\n",
       "    // Note - this is a bit hacky, but it is done because the \"notebook_saving.Notebook\"\n",
       "    // IPython event is triggered only after the cells have been serialised, which for\n",
       "    // our purposes (turning an active figure into a static one), is too late.\n",
       "    var cells = IPython.notebook.get_cells();\n",
       "    var ncells = cells.length;\n",
       "    for (var i=0; i<ncells; i++) {\n",
       "        var cell = cells[i];\n",
       "        if (cell.cell_type === 'code'){\n",
       "            for (var j=0; j<cell.output_area.outputs.length; j++) {\n",
       "                var data = cell.output_area.outputs[j];\n",
       "                if (data.data) {\n",
       "                    // IPython >= 3 moved mimebundle to data attribute of output\n",
       "                    data = data.data;\n",
       "                }\n",
       "                if (data['text/html'] == html_output) {\n",
       "                    return [cell, data, j];\n",
       "                }\n",
       "            }\n",
       "        }\n",
       "    }\n",
       "}\n",
       "\n",
       "// Register the function which deals with the matplotlib target/channel.\n",
       "// The kernel may be null if the page has been refreshed.\n",
       "if (IPython.notebook.kernel != null) {\n",
       "    IPython.notebook.kernel.comm_manager.register_target('matplotlib', mpl.mpl_figure_comm);\n",
       "}\n"
      ],
      "text/plain": [
       "<IPython.core.display.Javascript object>"
      ]
     },
     "metadata": {},
     "output_type": "display_data"
    },
    {
     "data": {
      "text/html": [
       "<img src=\"data:image/png;base64,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\" width=\"600\">"
      ],
      "text/plain": [
       "<IPython.core.display.HTML object>"
      ]
     },
     "metadata": {},
     "output_type": "display_data"
    }
   ],
   "source": [
    "stockname = 'BBL.BK'\n",
    "dataf= GetStock(stockname,'2016-01-01','2017-06-30')\n",
    "x=dataf['Close']\n",
    "#dataf['Close'].plot(figsize=(6,4),grid = True)\n",
    "fig1, ax = plt.subplots(figsize=(6,4))\n",
    "ax.plot(x)\n",
    "plt.xlabel(stockname)\n",
    "plt.ylabel('Price')\n",
    "plt.grid(True)\n",
    "plt.show()\n"
   ]
  },
  {
   "cell_type": "code",
   "execution_count": null,
   "metadata": {
    "button": false,
    "collapsed": true,
    "deletable": true,
    "new_sheet": false,
    "run_control": {
     "read_only": false
    }
   },
   "outputs": [],
   "source": []
  },
  {
   "cell_type": "code",
   "execution_count": null,
   "metadata": {
    "button": false,
    "collapsed": true,
    "deletable": true,
    "new_sheet": false,
    "run_control": {
     "read_only": false
    }
   },
   "outputs": [],
   "source": []
  },
  {
   "cell_type": "code",
   "execution_count": null,
   "metadata": {
    "button": false,
    "collapsed": true,
    "deletable": true,
    "new_sheet": false,
    "run_control": {
     "read_only": false
    }
   },
   "outputs": [],
   "source": []
  },
  {
   "cell_type": "code",
   "execution_count": null,
   "metadata": {
    "button": false,
    "collapsed": true,
    "deletable": true,
    "new_sheet": false,
    "run_control": {
     "read_only": false
    }
   },
   "outputs": [],
   "source": []
  },
  {
   "cell_type": "code",
   "execution_count": null,
   "metadata": {
    "button": false,
    "collapsed": true,
    "deletable": true,
    "new_sheet": false,
    "run_control": {
     "read_only": false
    }
   },
   "outputs": [],
   "source": []
  },
  {
   "cell_type": "code",
   "execution_count": null,
   "metadata": {
    "button": false,
    "collapsed": true,
    "deletable": true,
    "new_sheet": false,
    "run_control": {
     "read_only": false
    }
   },
   "outputs": [],
   "source": []
  },
  {
   "cell_type": "code",
   "execution_count": null,
   "metadata": {
    "button": false,
    "collapsed": true,
    "deletable": true,
    "new_sheet": false,
    "run_control": {
     "read_only": false
    }
   },
   "outputs": [],
   "source": []
  },
  {
   "cell_type": "code",
   "execution_count": null,
   "metadata": {
    "button": false,
    "collapsed": true,
    "deletable": true,
    "new_sheet": false,
    "run_control": {
     "read_only": false
    }
   },
   "outputs": [],
   "source": []
  },
  {
   "cell_type": "code",
   "execution_count": null,
   "metadata": {
    "button": false,
    "collapsed": true,
    "deletable": true,
    "new_sheet": false,
    "run_control": {
     "read_only": false
    }
   },
   "outputs": [],
   "source": []
  },
  {
   "cell_type": "code",
   "execution_count": null,
   "metadata": {
    "button": false,
    "collapsed": true,
    "deletable": true,
    "new_sheet": false,
    "run_control": {
     "read_only": false
    }
   },
   "outputs": [],
   "source": []
  },
  {
   "cell_type": "code",
   "execution_count": null,
   "metadata": {
    "button": false,
    "collapsed": true,
    "deletable": true,
    "new_sheet": false,
    "run_control": {
     "read_only": false
    }
   },
   "outputs": [],
   "source": []
  },
  {
   "cell_type": "code",
   "execution_count": null,
   "metadata": {
    "button": false,
    "collapsed": true,
    "deletable": true,
    "new_sheet": false,
    "run_control": {
     "read_only": false
    }
   },
   "outputs": [],
   "source": []
  },
  {
   "cell_type": "code",
   "execution_count": null,
   "metadata": {
    "button": false,
    "collapsed": true,
    "deletable": true,
    "new_sheet": false,
    "run_control": {
     "read_only": false
    }
   },
   "outputs": [],
   "source": []
  },
  {
   "cell_type": "code",
   "execution_count": null,
   "metadata": {
    "button": false,
    "collapsed": true,
    "deletable": true,
    "new_sheet": false,
    "run_control": {
     "read_only": false
    }
   },
   "outputs": [],
   "source": []
  },
  {
   "cell_type": "code",
   "execution_count": null,
   "metadata": {
    "button": false,
    "collapsed": true,
    "deletable": true,
    "new_sheet": false,
    "run_control": {
     "read_only": false
    }
   },
   "outputs": [],
   "source": []
  },
  {
   "cell_type": "code",
   "execution_count": null,
   "metadata": {
    "button": false,
    "collapsed": true,
    "deletable": true,
    "new_sheet": false,
    "run_control": {
     "read_only": false
    }
   },
   "outputs": [],
   "source": []
  },
  {
   "cell_type": "code",
   "execution_count": null,
   "metadata": {
    "button": false,
    "collapsed": true,
    "deletable": true,
    "new_sheet": false,
    "run_control": {
     "read_only": false
    }
   },
   "outputs": [],
   "source": []
  },
  {
   "cell_type": "code",
   "execution_count": null,
   "metadata": {
    "button": false,
    "collapsed": true,
    "deletable": true,
    "new_sheet": false,
    "run_control": {
     "read_only": false
    }
   },
   "outputs": [],
   "source": []
  },
  {
   "cell_type": "code",
   "execution_count": null,
   "metadata": {
    "button": false,
    "collapsed": true,
    "deletable": true,
    "new_sheet": false,
    "run_control": {
     "read_only": false
    }
   },
   "outputs": [],
   "source": []
  },
  {
   "cell_type": "code",
   "execution_count": null,
   "metadata": {
    "button": false,
    "collapsed": true,
    "deletable": true,
    "new_sheet": false,
    "run_control": {
     "read_only": false
    }
   },
   "outputs": [],
   "source": []
  },
  {
   "cell_type": "code",
   "execution_count": null,
   "metadata": {
    "button": false,
    "collapsed": true,
    "deletable": true,
    "new_sheet": false,
    "run_control": {
     "read_only": false
    }
   },
   "outputs": [],
   "source": []
  },
  {
   "cell_type": "code",
   "execution_count": null,
   "metadata": {
    "button": false,
    "collapsed": true,
    "deletable": true,
    "new_sheet": false,
    "run_control": {
     "read_only": false
    }
   },
   "outputs": [],
   "source": []
  },
  {
   "cell_type": "code",
   "execution_count": null,
   "metadata": {
    "button": false,
    "collapsed": true,
    "deletable": true,
    "new_sheet": false,
    "run_control": {
     "read_only": false
    }
   },
   "outputs": [],
   "source": []
  },
  {
   "cell_type": "code",
   "execution_count": null,
   "metadata": {
    "button": false,
    "collapsed": true,
    "deletable": true,
    "new_sheet": false,
    "run_control": {
     "read_only": false
    }
   },
   "outputs": [],
   "source": []
  },
  {
   "cell_type": "code",
   "execution_count": null,
   "metadata": {
    "button": false,
    "collapsed": true,
    "deletable": true,
    "new_sheet": false,
    "run_control": {
     "read_only": false
    }
   },
   "outputs": [],
   "source": []
  },
  {
   "cell_type": "code",
   "execution_count": null,
   "metadata": {
    "button": false,
    "collapsed": true,
    "deletable": true,
    "new_sheet": false,
    "run_control": {
     "read_only": false
    }
   },
   "outputs": [],
   "source": []
  },
  {
   "cell_type": "code",
   "execution_count": null,
   "metadata": {
    "button": false,
    "collapsed": true,
    "deletable": true,
    "new_sheet": false,
    "run_control": {
     "read_only": false
    }
   },
   "outputs": [],
   "source": []
  },
  {
   "cell_type": "code",
   "execution_count": null,
   "metadata": {
    "button": false,
    "collapsed": true,
    "deletable": true,
    "new_sheet": false,
    "run_control": {
     "read_only": false
    }
   },
   "outputs": [],
   "source": []
  },
  {
   "cell_type": "code",
   "execution_count": null,
   "metadata": {
    "button": false,
    "collapsed": true,
    "deletable": true,
    "new_sheet": false,
    "run_control": {
     "read_only": false
    }
   },
   "outputs": [],
   "source": []
  },
  {
   "cell_type": "code",
   "execution_count": null,
   "metadata": {
    "button": false,
    "collapsed": true,
    "deletable": true,
    "new_sheet": false,
    "run_control": {
     "read_only": false
    }
   },
   "outputs": [],
   "source": []
  },
  {
   "cell_type": "code",
   "execution_count": null,
   "metadata": {
    "button": false,
    "collapsed": true,
    "deletable": true,
    "new_sheet": false,
    "run_control": {
     "read_only": false
    }
   },
   "outputs": [],
   "source": []
  },
  {
   "cell_type": "code",
   "execution_count": null,
   "metadata": {
    "button": false,
    "collapsed": true,
    "deletable": true,
    "new_sheet": false,
    "run_control": {
     "read_only": false
    }
   },
   "outputs": [],
   "source": []
  },
  {
   "cell_type": "code",
   "execution_count": null,
   "metadata": {
    "button": false,
    "collapsed": true,
    "deletable": true,
    "new_sheet": false,
    "run_control": {
     "read_only": false
    }
   },
   "outputs": [],
   "source": []
  },
  {
   "cell_type": "code",
   "execution_count": null,
   "metadata": {
    "button": false,
    "collapsed": true,
    "deletable": true,
    "new_sheet": false,
    "run_control": {
     "read_only": false
    }
   },
   "outputs": [],
   "source": []
  },
  {
   "cell_type": "code",
   "execution_count": null,
   "metadata": {
    "button": false,
    "collapsed": true,
    "deletable": true,
    "new_sheet": false,
    "run_control": {
     "read_only": false
    }
   },
   "outputs": [],
   "source": []
  },
  {
   "cell_type": "code",
   "execution_count": null,
   "metadata": {
    "button": false,
    "collapsed": true,
    "deletable": true,
    "new_sheet": false,
    "run_control": {
     "read_only": false
    }
   },
   "outputs": [],
   "source": []
  },
  {
   "cell_type": "code",
   "execution_count": null,
   "metadata": {
    "button": false,
    "collapsed": true,
    "deletable": true,
    "new_sheet": false,
    "run_control": {
     "read_only": false
    }
   },
   "outputs": [],
   "source": []
  },
  {
   "cell_type": "code",
   "execution_count": null,
   "metadata": {
    "button": false,
    "collapsed": true,
    "deletable": true,
    "new_sheet": false,
    "run_control": {
     "read_only": false
    }
   },
   "outputs": [],
   "source": []
  },
  {
   "cell_type": "code",
   "execution_count": null,
   "metadata": {
    "button": false,
    "collapsed": true,
    "deletable": true,
    "new_sheet": false,
    "run_control": {
     "read_only": false
    }
   },
   "outputs": [],
   "source": []
  },
  {
   "cell_type": "code",
   "execution_count": null,
   "metadata": {
    "button": false,
    "collapsed": true,
    "deletable": true,
    "new_sheet": false,
    "run_control": {
     "read_only": false
    }
   },
   "outputs": [],
   "source": []
  },
  {
   "cell_type": "code",
   "execution_count": null,
   "metadata": {
    "button": false,
    "collapsed": true,
    "deletable": true,
    "new_sheet": false,
    "run_control": {
     "read_only": false
    }
   },
   "outputs": [],
   "source": []
  },
  {
   "cell_type": "code",
   "execution_count": null,
   "metadata": {
    "button": false,
    "collapsed": true,
    "deletable": true,
    "new_sheet": false,
    "run_control": {
     "read_only": false
    }
   },
   "outputs": [],
   "source": []
  },
  {
   "cell_type": "code",
   "execution_count": null,
   "metadata": {
    "button": false,
    "collapsed": true,
    "deletable": true,
    "new_sheet": false,
    "run_control": {
     "read_only": false
    }
   },
   "outputs": [],
   "source": []
  },
  {
   "cell_type": "code",
   "execution_count": null,
   "metadata": {
    "button": false,
    "collapsed": true,
    "deletable": true,
    "new_sheet": false,
    "run_control": {
     "read_only": false
    }
   },
   "outputs": [],
   "source": []
  },
  {
   "cell_type": "code",
   "execution_count": null,
   "metadata": {
    "button": false,
    "collapsed": true,
    "deletable": true,
    "new_sheet": false,
    "run_control": {
     "read_only": false
    }
   },
   "outputs": [],
   "source": []
  },
  {
   "cell_type": "code",
   "execution_count": null,
   "metadata": {
    "button": false,
    "collapsed": true,
    "deletable": true,
    "new_sheet": false,
    "run_control": {
     "read_only": false
    }
   },
   "outputs": [],
   "source": []
  },
  {
   "cell_type": "code",
   "execution_count": null,
   "metadata": {
    "button": false,
    "collapsed": true,
    "deletable": true,
    "new_sheet": false,
    "run_control": {
     "read_only": false
    }
   },
   "outputs": [],
   "source": []
  },
  {
   "cell_type": "code",
   "execution_count": null,
   "metadata": {
    "button": false,
    "collapsed": true,
    "deletable": true,
    "new_sheet": false,
    "run_control": {
     "read_only": false
    }
   },
   "outputs": [],
   "source": []
  },
  {
   "cell_type": "code",
   "execution_count": null,
   "metadata": {
    "button": false,
    "collapsed": true,
    "deletable": true,
    "new_sheet": false,
    "run_control": {
     "read_only": false
    }
   },
   "outputs": [],
   "source": []
  },
  {
   "cell_type": "code",
   "execution_count": null,
   "metadata": {
    "button": false,
    "collapsed": true,
    "deletable": true,
    "new_sheet": false,
    "run_control": {
     "read_only": false
    }
   },
   "outputs": [],
   "source": []
  },
  {
   "cell_type": "code",
   "execution_count": null,
   "metadata": {
    "button": false,
    "collapsed": true,
    "deletable": true,
    "new_sheet": false,
    "run_control": {
     "read_only": false
    }
   },
   "outputs": [],
   "source": []
  },
  {
   "cell_type": "code",
   "execution_count": null,
   "metadata": {
    "button": false,
    "collapsed": true,
    "deletable": true,
    "new_sheet": false,
    "run_control": {
     "read_only": false
    }
   },
   "outputs": [],
   "source": []
  },
  {
   "cell_type": "code",
   "execution_count": null,
   "metadata": {
    "button": false,
    "collapsed": true,
    "deletable": true,
    "new_sheet": false,
    "run_control": {
     "read_only": false
    }
   },
   "outputs": [],
   "source": []
  },
  {
   "cell_type": "code",
   "execution_count": null,
   "metadata": {
    "button": false,
    "collapsed": true,
    "deletable": true,
    "new_sheet": false,
    "run_control": {
     "read_only": false
    }
   },
   "outputs": [],
   "source": []
  },
  {
   "cell_type": "code",
   "execution_count": null,
   "metadata": {
    "button": false,
    "collapsed": true,
    "deletable": true,
    "new_sheet": false,
    "run_control": {
     "read_only": false
    }
   },
   "outputs": [],
   "source": []
  },
  {
   "cell_type": "code",
   "execution_count": null,
   "metadata": {
    "button": false,
    "collapsed": true,
    "deletable": true,
    "new_sheet": false,
    "run_control": {
     "read_only": false
    }
   },
   "outputs": [],
   "source": []
  },
  {
   "cell_type": "code",
   "execution_count": null,
   "metadata": {
    "button": false,
    "collapsed": true,
    "deletable": true,
    "new_sheet": false,
    "run_control": {
     "read_only": false
    }
   },
   "outputs": [],
   "source": []
  },
  {
   "cell_type": "code",
   "execution_count": null,
   "metadata": {
    "button": false,
    "collapsed": true,
    "deletable": true,
    "new_sheet": false,
    "run_control": {
     "read_only": false
    }
   },
   "outputs": [],
   "source": []
  },
  {
   "cell_type": "code",
   "execution_count": null,
   "metadata": {
    "button": false,
    "collapsed": true,
    "deletable": true,
    "new_sheet": false,
    "run_control": {
     "read_only": false
    }
   },
   "outputs": [],
   "source": []
  },
  {
   "cell_type": "code",
   "execution_count": null,
   "metadata": {
    "button": false,
    "collapsed": true,
    "deletable": true,
    "new_sheet": false,
    "run_control": {
     "read_only": false
    }
   },
   "outputs": [],
   "source": []
  },
  {
   "cell_type": "code",
   "execution_count": null,
   "metadata": {
    "button": false,
    "collapsed": true,
    "deletable": true,
    "new_sheet": false,
    "run_control": {
     "read_only": false
    }
   },
   "outputs": [],
   "source": []
  },
  {
   "cell_type": "code",
   "execution_count": null,
   "metadata": {
    "button": false,
    "collapsed": true,
    "deletable": true,
    "new_sheet": false,
    "run_control": {
     "read_only": false
    }
   },
   "outputs": [],
   "source": []
  },
  {
   "cell_type": "code",
   "execution_count": null,
   "metadata": {
    "button": false,
    "collapsed": true,
    "deletable": true,
    "new_sheet": false,
    "run_control": {
     "read_only": false
    }
   },
   "outputs": [],
   "source": []
  },
  {
   "cell_type": "code",
   "execution_count": null,
   "metadata": {
    "button": false,
    "collapsed": false,
    "deletable": true,
    "new_sheet": false,
    "run_control": {
     "read_only": false
    }
   },
   "outputs": [],
   "source": []
  },
  {
   "cell_type": "code",
   "execution_count": null,
   "metadata": {
    "button": false,
    "collapsed": true,
    "deletable": true,
    "new_sheet": false,
    "run_control": {
     "read_only": false
    }
   },
   "outputs": [],
   "source": []
  },
  {
   "cell_type": "code",
   "execution_count": null,
   "metadata": {
    "button": false,
    "collapsed": true,
    "deletable": true,
    "new_sheet": false,
    "run_control": {
     "read_only": false
    }
   },
   "outputs": [],
   "source": []
  },
  {
   "cell_type": "code",
   "execution_count": null,
   "metadata": {
    "button": false,
    "collapsed": true,
    "deletable": true,
    "new_sheet": false,
    "run_control": {
     "read_only": false
    }
   },
   "outputs": [],
   "source": []
  },
  {
   "cell_type": "code",
   "execution_count": null,
   "metadata": {
    "button": false,
    "collapsed": true,
    "deletable": true,
    "new_sheet": false,
    "run_control": {
     "read_only": false
    }
   },
   "outputs": [],
   "source": []
  },
  {
   "cell_type": "code",
   "execution_count": null,
   "metadata": {
    "button": false,
    "collapsed": true,
    "deletable": true,
    "new_sheet": false,
    "run_control": {
     "read_only": false
    }
   },
   "outputs": [],
   "source": []
  },
  {
   "cell_type": "code",
   "execution_count": null,
   "metadata": {
    "button": false,
    "collapsed": true,
    "deletable": true,
    "new_sheet": false,
    "run_control": {
     "read_only": false
    }
   },
   "outputs": [],
   "source": []
  },
  {
   "cell_type": "code",
   "execution_count": null,
   "metadata": {
    "button": false,
    "collapsed": true,
    "deletable": true,
    "new_sheet": false,
    "run_control": {
     "read_only": false
    }
   },
   "outputs": [],
   "source": []
  },
  {
   "cell_type": "code",
   "execution_count": null,
   "metadata": {
    "button": false,
    "collapsed": true,
    "deletable": true,
    "new_sheet": false,
    "run_control": {
     "read_only": false
    }
   },
   "outputs": [],
   "source": []
  },
  {
   "cell_type": "code",
   "execution_count": null,
   "metadata": {
    "button": false,
    "collapsed": true,
    "deletable": true,
    "new_sheet": false,
    "run_control": {
     "read_only": false
    }
   },
   "outputs": [],
   "source": []
  },
  {
   "cell_type": "code",
   "execution_count": null,
   "metadata": {
    "button": false,
    "collapsed": true,
    "deletable": true,
    "new_sheet": false,
    "run_control": {
     "read_only": false
    }
   },
   "outputs": [],
   "source": []
  },
  {
   "cell_type": "code",
   "execution_count": null,
   "metadata": {
    "button": false,
    "collapsed": true,
    "deletable": true,
    "new_sheet": false,
    "run_control": {
     "read_only": false
    }
   },
   "outputs": [],
   "source": []
  },
  {
   "cell_type": "code",
   "execution_count": null,
   "metadata": {
    "button": false,
    "collapsed": true,
    "deletable": true,
    "new_sheet": false,
    "run_control": {
     "read_only": false
    }
   },
   "outputs": [],
   "source": []
  },
  {
   "cell_type": "code",
   "execution_count": null,
   "metadata": {
    "button": false,
    "collapsed": true,
    "deletable": true,
    "new_sheet": false,
    "run_control": {
     "read_only": false
    }
   },
   "outputs": [],
   "source": []
  },
  {
   "cell_type": "code",
   "execution_count": null,
   "metadata": {
    "button": false,
    "collapsed": true,
    "deletable": true,
    "new_sheet": false,
    "run_control": {
     "read_only": false
    }
   },
   "outputs": [],
   "source": []
  },
  {
   "cell_type": "code",
   "execution_count": null,
   "metadata": {
    "button": false,
    "collapsed": true,
    "deletable": true,
    "new_sheet": false,
    "run_control": {
     "read_only": false
    }
   },
   "outputs": [],
   "source": []
  },
  {
   "cell_type": "code",
   "execution_count": null,
   "metadata": {
    "button": false,
    "collapsed": true,
    "deletable": true,
    "new_sheet": false,
    "run_control": {
     "read_only": false
    }
   },
   "outputs": [],
   "source": []
  },
  {
   "cell_type": "code",
   "execution_count": null,
   "metadata": {
    "button": false,
    "collapsed": true,
    "deletable": true,
    "new_sheet": false,
    "run_control": {
     "read_only": false
    }
   },
   "outputs": [],
   "source": []
  },
  {
   "cell_type": "code",
   "execution_count": null,
   "metadata": {
    "button": false,
    "collapsed": true,
    "deletable": true,
    "new_sheet": false,
    "run_control": {
     "read_only": false
    }
   },
   "outputs": [],
   "source": []
  },
  {
   "cell_type": "code",
   "execution_count": null,
   "metadata": {
    "button": false,
    "collapsed": true,
    "deletable": true,
    "new_sheet": false,
    "run_control": {
     "read_only": false
    }
   },
   "outputs": [],
   "source": []
  },
  {
   "cell_type": "code",
   "execution_count": null,
   "metadata": {
    "button": false,
    "collapsed": true,
    "deletable": true,
    "new_sheet": false,
    "run_control": {
     "read_only": false
    }
   },
   "outputs": [],
   "source": []
  },
  {
   "cell_type": "code",
   "execution_count": null,
   "metadata": {
    "button": false,
    "collapsed": true,
    "deletable": true,
    "new_sheet": false,
    "run_control": {
     "read_only": false
    }
   },
   "outputs": [],
   "source": []
  },
  {
   "cell_type": "code",
   "execution_count": null,
   "metadata": {
    "button": false,
    "collapsed": true,
    "deletable": true,
    "new_sheet": false,
    "run_control": {
     "read_only": false
    }
   },
   "outputs": [],
   "source": []
  },
  {
   "cell_type": "code",
   "execution_count": null,
   "metadata": {
    "button": false,
    "collapsed": true,
    "deletable": true,
    "new_sheet": false,
    "run_control": {
     "read_only": false
    }
   },
   "outputs": [],
   "source": []
  },
  {
   "cell_type": "code",
   "execution_count": null,
   "metadata": {
    "button": false,
    "collapsed": true,
    "deletable": true,
    "new_sheet": false,
    "run_control": {
     "read_only": false
    }
   },
   "outputs": [],
   "source": []
  },
  {
   "cell_type": "code",
   "execution_count": null,
   "metadata": {
    "button": false,
    "collapsed": true,
    "deletable": true,
    "new_sheet": false,
    "run_control": {
     "read_only": false
    }
   },
   "outputs": [],
   "source": []
  },
  {
   "cell_type": "code",
   "execution_count": null,
   "metadata": {
    "button": false,
    "collapsed": true,
    "deletable": true,
    "new_sheet": false,
    "run_control": {
     "read_only": false
    }
   },
   "outputs": [],
   "source": []
  },
  {
   "cell_type": "code",
   "execution_count": null,
   "metadata": {
    "button": false,
    "collapsed": true,
    "deletable": true,
    "new_sheet": false,
    "run_control": {
     "read_only": false
    }
   },
   "outputs": [],
   "source": []
  },
  {
   "cell_type": "code",
   "execution_count": null,
   "metadata": {
    "button": false,
    "collapsed": true,
    "deletable": true,
    "new_sheet": false,
    "run_control": {
     "read_only": false
    }
   },
   "outputs": [],
   "source": []
  },
  {
   "cell_type": "code",
   "execution_count": null,
   "metadata": {
    "button": false,
    "collapsed": true,
    "deletable": true,
    "new_sheet": false,
    "run_control": {
     "read_only": false
    }
   },
   "outputs": [],
   "source": []
  },
  {
   "cell_type": "code",
   "execution_count": null,
   "metadata": {
    "button": false,
    "collapsed": true,
    "deletable": true,
    "new_sheet": false,
    "run_control": {
     "read_only": false
    }
   },
   "outputs": [],
   "source": []
  },
  {
   "cell_type": "code",
   "execution_count": null,
   "metadata": {
    "button": false,
    "collapsed": true,
    "deletable": true,
    "new_sheet": false,
    "run_control": {
     "read_only": false
    }
   },
   "outputs": [],
   "source": []
  },
  {
   "cell_type": "code",
   "execution_count": null,
   "metadata": {
    "button": false,
    "collapsed": true,
    "deletable": true,
    "new_sheet": false,
    "run_control": {
     "read_only": false
    }
   },
   "outputs": [],
   "source": []
  },
  {
   "cell_type": "code",
   "execution_count": null,
   "metadata": {
    "button": false,
    "collapsed": true,
    "deletable": true,
    "new_sheet": false,
    "run_control": {
     "read_only": false
    }
   },
   "outputs": [],
   "source": []
  },
  {
   "cell_type": "code",
   "execution_count": null,
   "metadata": {
    "button": false,
    "collapsed": true,
    "deletable": true,
    "new_sheet": false,
    "run_control": {
     "read_only": false
    }
   },
   "outputs": [],
   "source": []
  },
  {
   "cell_type": "code",
   "execution_count": null,
   "metadata": {
    "button": false,
    "collapsed": true,
    "deletable": true,
    "new_sheet": false,
    "run_control": {
     "read_only": false
    }
   },
   "outputs": [],
   "source": []
  },
  {
   "cell_type": "code",
   "execution_count": null,
   "metadata": {
    "button": false,
    "collapsed": true,
    "deletable": true,
    "new_sheet": false,
    "run_control": {
     "read_only": false
    }
   },
   "outputs": [],
   "source": []
  },
  {
   "cell_type": "code",
   "execution_count": null,
   "metadata": {
    "button": false,
    "collapsed": true,
    "deletable": true,
    "new_sheet": false,
    "run_control": {
     "read_only": false
    }
   },
   "outputs": [],
   "source": []
  },
  {
   "cell_type": "code",
   "execution_count": null,
   "metadata": {
    "button": false,
    "collapsed": true,
    "deletable": true,
    "new_sheet": false,
    "run_control": {
     "read_only": false
    }
   },
   "outputs": [],
   "source": []
  },
  {
   "cell_type": "code",
   "execution_count": null,
   "metadata": {
    "button": false,
    "collapsed": true,
    "deletable": true,
    "new_sheet": false,
    "run_control": {
     "read_only": false
    }
   },
   "outputs": [],
   "source": []
  },
  {
   "cell_type": "code",
   "execution_count": null,
   "metadata": {
    "button": false,
    "collapsed": true,
    "deletable": true,
    "new_sheet": false,
    "run_control": {
     "read_only": false
    }
   },
   "outputs": [],
   "source": []
  },
  {
   "cell_type": "code",
   "execution_count": null,
   "metadata": {
    "button": false,
    "collapsed": true,
    "deletable": true,
    "new_sheet": false,
    "run_control": {
     "read_only": false
    }
   },
   "outputs": [],
   "source": []
  },
  {
   "cell_type": "code",
   "execution_count": null,
   "metadata": {
    "button": false,
    "collapsed": true,
    "deletable": true,
    "new_sheet": false,
    "run_control": {
     "read_only": false
    }
   },
   "outputs": [],
   "source": []
  },
  {
   "cell_type": "code",
   "execution_count": null,
   "metadata": {
    "button": false,
    "collapsed": true,
    "deletable": true,
    "new_sheet": false,
    "run_control": {
     "read_only": false
    }
   },
   "outputs": [],
   "source": []
  },
  {
   "cell_type": "code",
   "execution_count": null,
   "metadata": {
    "button": false,
    "collapsed": true,
    "deletable": true,
    "new_sheet": false,
    "run_control": {
     "read_only": false
    }
   },
   "outputs": [],
   "source": []
  },
  {
   "cell_type": "code",
   "execution_count": null,
   "metadata": {
    "button": false,
    "collapsed": true,
    "deletable": true,
    "new_sheet": false,
    "run_control": {
     "read_only": false
    }
   },
   "outputs": [],
   "source": []
  },
  {
   "cell_type": "code",
   "execution_count": null,
   "metadata": {
    "button": false,
    "collapsed": true,
    "deletable": true,
    "new_sheet": false,
    "run_control": {
     "read_only": false
    }
   },
   "outputs": [],
   "source": []
  },
  {
   "cell_type": "code",
   "execution_count": null,
   "metadata": {
    "button": false,
    "collapsed": true,
    "deletable": true,
    "new_sheet": false,
    "run_control": {
     "read_only": false
    }
   },
   "outputs": [],
   "source": []
  },
  {
   "cell_type": "code",
   "execution_count": null,
   "metadata": {
    "button": false,
    "collapsed": true,
    "deletable": true,
    "new_sheet": false,
    "run_control": {
     "read_only": false
    }
   },
   "outputs": [],
   "source": []
  },
  {
   "cell_type": "code",
   "execution_count": null,
   "metadata": {
    "button": false,
    "collapsed": true,
    "deletable": true,
    "new_sheet": false,
    "run_control": {
     "read_only": false
    }
   },
   "outputs": [],
   "source": []
  },
  {
   "cell_type": "code",
   "execution_count": null,
   "metadata": {
    "button": false,
    "collapsed": true,
    "deletable": true,
    "new_sheet": false,
    "run_control": {
     "read_only": false
    }
   },
   "outputs": [],
   "source": []
  },
  {
   "cell_type": "code",
   "execution_count": null,
   "metadata": {
    "button": false,
    "collapsed": true,
    "deletable": true,
    "new_sheet": false,
    "run_control": {
     "read_only": false
    }
   },
   "outputs": [],
   "source": []
  },
  {
   "cell_type": "code",
   "execution_count": null,
   "metadata": {
    "button": false,
    "collapsed": true,
    "deletable": true,
    "new_sheet": false,
    "run_control": {
     "read_only": false
    }
   },
   "outputs": [],
   "source": []
  },
  {
   "cell_type": "code",
   "execution_count": null,
   "metadata": {
    "button": false,
    "collapsed": true,
    "deletable": true,
    "new_sheet": false,
    "run_control": {
     "read_only": false
    }
   },
   "outputs": [],
   "source": []
  }
 ],
 "metadata": {
  "kernelspec": {
   "display_name": "Python 3",
   "language": "python",
   "name": "python3"
  },
  "language_info": {
   "codemirror_mode": {
    "name": "ipython",
    "version": 3
   },
   "file_extension": ".py",
   "mimetype": "text/x-python",
   "name": "python",
   "nbconvert_exporter": "python",
   "pygments_lexer": "ipython3",
   "version": "3.5.0"
  }
 },
 "nbformat": 4,
 "nbformat_minor": 0
}
